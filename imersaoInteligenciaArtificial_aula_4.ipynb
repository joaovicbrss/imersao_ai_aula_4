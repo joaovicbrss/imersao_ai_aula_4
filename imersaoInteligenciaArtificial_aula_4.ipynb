{
  "nbformat": 4,
  "nbformat_minor": 0,
  "metadata": {
    "colab": {
      "provenance": [],
      "authorship_tag": "ABX9TyO9eD4qCnQu15dy4rWzmw5t",
      "include_colab_link": true
    },
    "kernelspec": {
      "name": "python3",
      "display_name": "Python 3"
    },
    "language_info": {
      "name": "python"
    }
  },
  "cells": [
    {
      "cell_type": "markdown",
      "metadata": {
        "id": "view-in-github",
        "colab_type": "text"
      },
      "source": [
        "<a href=\"https://colab.research.google.com/github/joaovicbrss/imersao_ai_aula_4/blob/main/imersaoInteligenciaArtificial_aula_4.ipynb\" target=\"_parent\"><img src=\"https://colab.research.google.com/assets/colab-badge.svg\" alt=\"Open In Colab\"/></a>"
      ]
    },
    {
      "cell_type": "markdown",
      "source": [
        "Instalando o SDK do Google!"
      ],
      "metadata": {
        "id": "xazuNfauUjuu"
      }
    },
    {
      "cell_type": "code",
      "execution_count": 1,
      "metadata": {
        "id": "VJULZA8GQkzT"
      },
      "outputs": [],
      "source": [
        "!pip install -q -U google-generativeai"
      ]
    },
    {
      "cell_type": "markdown",
      "source": [
        "Importando biblioteca e adicionando API_KEY"
      ],
      "metadata": {
        "id": "ey370oO7UxYd"
      }
    },
    {
      "cell_type": "code",
      "source": [
        "# Import the Python SDK\n",
        "import google.generativeai as genai\n",
        "from google.colab import userdata\n",
        "api_key = userdata.get('secret_key')\n",
        "\n",
        "GOOGLE_API_KEY= api_key\n",
        "genai.configure(api_key=GOOGLE_API_KEY)"
      ],
      "metadata": {
        "id": "s1nx6GQEUnTG"
      },
      "execution_count": 21,
      "outputs": []
    },
    {
      "cell_type": "markdown",
      "source": [
        "Listar os modelos disponíveis"
      ],
      "metadata": {
        "id": "-M5BLn9VVSS2"
      }
    },
    {
      "cell_type": "code",
      "source": [
        "for m in genai.list_models():\n",
        "    if 'generateContent' in m.supported_generation_methods:\n",
        "      print(m.name)"
      ],
      "metadata": {
        "colab": {
          "base_uri": "https://localhost:8080/",
          "height": 139
        },
        "id": "dM7sTcnyVR_p",
        "outputId": "25e98dda-6dbb-4fa0-a8d2-ee54b47d8cd4"
      },
      "execution_count": 22,
      "outputs": [
        {
          "output_type": "stream",
          "name": "stdout",
          "text": [
            "models/gemini-1.0-pro\n",
            "models/gemini-1.0-pro-001\n",
            "models/gemini-1.0-pro-latest\n",
            "models/gemini-1.0-pro-vision-latest\n",
            "models/gemini-1.5-pro-latest\n",
            "models/gemini-pro\n",
            "models/gemini-pro-vision\n"
          ]
        }
      ]
    },
    {
      "cell_type": "markdown",
      "source": [
        "Configurações de parâmetros"
      ],
      "metadata": {
        "id": "01wX2iv_XIrZ"
      }
    },
    {
      "cell_type": "code",
      "source": [
        "generation_config = {\n",
        "    \"candidate_count\": 1,\n",
        "    \"temperature\": 0.5,\n",
        "}"
      ],
      "metadata": {
        "id": "y9VPUVkQXKwl"
      },
      "execution_count": 23,
      "outputs": []
    },
    {
      "cell_type": "code",
      "source": [
        "safety_settings = {\n",
        "    \"HARASSMENT\":\"BLOCK_NONE\",\n",
        "    \"HATE\":\"BLOCK_NONE\",\n",
        "    \"SEXUAL\":\"BLOCK_NONE\",\n",
        "    \"DANGEROUS\":\"BLOCK_NONE\"\n",
        "    }"
      ],
      "metadata": {
        "id": "XDsvAlwWX52W"
      },
      "execution_count": 24,
      "outputs": []
    },
    {
      "cell_type": "markdown",
      "source": [
        "Iniciando o modelo"
      ],
      "metadata": {
        "id": "juwjmE78ZMJp"
      }
    },
    {
      "cell_type": "code",
      "source": [
        "model = genai.GenerativeModel('gemini-1.0-pro',  generation_config=generation_config, safety_settings=safety_settings)"
      ],
      "metadata": {
        "id": "naEnlpBZZLcG"
      },
      "execution_count": 25,
      "outputs": []
    },
    {
      "cell_type": "code",
      "source": [
        "response = model.generate_content(\"Vamos aprender conteudo sobre IA. Me dê sugestões\")\n",
        "print(response.text)"
      ],
      "metadata": {
        "colab": {
          "base_uri": "https://localhost:8080/",
          "height": 746
        },
        "id": "RKvODOR1aHgs",
        "outputId": "023ac2dd-aae6-49a4-9b20-d7309cd3dfc5"
      },
      "execution_count": 26,
      "outputs": [
        {
          "output_type": "stream",
          "name": "stdout",
          "text": [
            "**Conceitos Fundamentais**\n",
            "\n",
            "* Definição e histórico da Inteligência Artificial (IA)\n",
            "* Tipos de IA (por exemplo, aprendizado de máquina, aprendizado profundo, processamento de linguagem natural)\n",
            "* Algoritmos e técnicas comuns em IA\n",
            "\n",
            "**Aprendizado de Máquina**\n",
            "\n",
            "* Conceitos de aprendizado supervisionado, não supervisionado e por reforço\n",
            "* Modelos de aprendizado de máquina populares (por exemplo, regressão linear, árvores de decisão, redes neurais)\n",
            "* Avaliação e otimização de modelos de aprendizado de máquina\n",
            "\n",
            "**Aprendizado Profundo**\n",
            "\n",
            "* Redes neurais e suas arquiteturas (por exemplo, CNNs, RNNs, Transformers)\n",
            "* Treinamento e otimização de redes neurais\n",
            "* Aplicações de aprendizado profundo (por exemplo, reconhecimento de imagem, processamento de linguagem natural)\n",
            "\n",
            "**Processamento de Linguagem Natural (PNL)**\n",
            "\n",
            "* Conceitos básicos de PNL (por exemplo, tokenização, lematização, análise sintática)\n",
            "* Modelos de PNL (por exemplo, modelos de linguagem, modelos de tradução automática)\n",
            "* Aplicações de PNL (por exemplo, chatbots, reconhecimento de fala)\n",
            "\n",
            "**Aplicações de IA**\n",
            "\n",
            "* IA na saúde (por exemplo, diagnóstico de doenças, descoberta de medicamentos)\n",
            "* IA em finanças (por exemplo, detecção de fraudes, previsão de mercado)\n",
            "* IA em manufatura (por exemplo, automação de processos, otimização de produção)\n",
            "\n",
            "**Ética e Implicações Sociais da IA**\n",
            "\n",
            "* Preocupações éticas com IA (por exemplo, viés, privacidade, desemprego)\n",
            "* Implicações sociais e econômicas da IA\n",
            "* Regulamentações e políticas para IA\n",
            "\n",
            "**Recursos Adicionais**\n",
            "\n",
            "* Cursos online (por exemplo, Coursera, edX, Udemy)\n",
            "* Livros e artigos de pesquisa\n",
            "* Comunidades online e fóruns (por exemplo, Stack Overflow, Reddit)\n",
            "* Conferências e workshops sobre IA\n"
          ]
        }
      ]
    },
    {
      "cell_type": "code",
      "source": [
        "chat = model.start_chat(history=[])"
      ],
      "metadata": {
        "id": "VK_WPh4DaYx2"
      },
      "execution_count": 27,
      "outputs": []
    },
    {
      "cell_type": "code",
      "source": [
        "prompt = input('Esperando prompt: ')\n",
        "\n",
        "while prompt != 'fim':\n",
        "  response = chat.send_message(prompt)\n",
        "  print(response.text)\n",
        "  prompt = input('Esperando prompt: ')"
      ],
      "metadata": {
        "colab": {
          "base_uri": "https://localhost:8080/",
          "height": 1000
        },
        "id": "VyiVDZzvawLf",
        "outputId": "5bf2310d-3116-4b7b-8ba5-af1601b69352"
      },
      "execution_count": 28,
      "outputs": [
        {
          "name": "stdout",
          "output_type": "stream",
          "text": [
            "Esperando prompt: qual país tem 5 copas do mundo?\n",
            "Brasil\n",
            "Esperando prompt: diga-me uma comida típica deste país\n",
            "Feijoada\n",
            "Esperando prompt: receita\n",
            "**Ingredientes:**\n",
            "\n",
            "**Para a feijoada:**\n",
            "\n",
            "* 500g de feijão preto\n",
            "* 250g de carne seca\n",
            "* 250g de linguiça calabresa\n",
            "* 250g de paio\n",
            "* 250g de bacon\n",
            "* 1 cebola grande picada\n",
            "* 4 dentes de alho picados\n",
            "* 2 folhas de louro\n",
            "* Sal e pimenta a gosto\n",
            "\n",
            "**Para o acompanhamento:**\n",
            "\n",
            "* Arroz branco\n",
            "* Couve refogada\n",
            "* Farofa\n",
            "* Laranja cortada em gomos\n",
            "\n",
            "**Modo de preparo:**\n",
            "\n",
            "**Feijoada:**\n",
            "\n",
            "1. Deixe o feijão de molho em água por pelo menos 12 horas.\n",
            "2. Escorra o feijão e coloque-o em uma panela de pressão.\n",
            "3. Adicione a carne seca, a linguiça calabresa, o paio, o bacon, a cebola, o alho, as folhas de louro, o sal e a pimenta.\n",
            "4. Cubra com água até cerca de 2 dedos acima dos ingredientes.\n",
            "5. Feche a panela de pressão e cozinhe por cerca de 40 minutos, ou até que o feijão esteja macio.\n",
            "6. Retire a pressão da panela e abra-a com cuidado.\n",
            "\n",
            "**Acompanhamentos:**\n",
            "\n",
            "* **Arroz branco:** Cozinhe o arroz de acordo com as instruções da embalagem.\n",
            "* **Couve refogada:** Refogue a couve em uma panela com um pouco de azeite e alho.\n",
            "* **Farofa:** Torre a farinha de mandioca em uma panela com um pouco de manteiga.\n",
            "* **Laranja:** Corte a laranja em gomos e sirva como acompanhamento.\n",
            "\n",
            "**Montagem:**\n",
            "\n",
            "1. Em um prato, coloque uma porção de feijoada.\n",
            "2. Ao lado, coloque o arroz branco, a couve refogada, a farofa e os gomos de laranja.\n",
            "3. Sirva quente.\n",
            "\n",
            "**Dicas:**\n",
            "\n",
            "* Para uma feijoada mais saborosa, use carnes secas de boa qualidade.\n",
            "* Se não tiver panela de pressão, cozinhe o feijão em uma panela comum por cerca de 2 horas, ou até que esteja macio.\n",
            "* A feijoada pode ser servida com outros acompanhamentos, como torresmo, banana frita ou vinagrete.\n",
            "Esperando prompt: serve quantas pessoas?\n",
            "Esta receita de feijoada serve aproximadamente 6 pessoas.\n",
            "\n",
            "No entanto, a quantidade de pessoas que ela serve pode variar dependendo do tamanho das porções e dos acompanhamentos servidos. Por exemplo, se você servir porções generosas de feijoada com vários acompanhamentos, ela pode servir menos pessoas.\n",
            "\n",
            "Como orientação geral, considere cerca de 250g de feijoada por pessoa, além dos acompanhamentos.\n",
            "Esperando prompt: fim\n"
          ]
        }
      ]
    }
  ]
}